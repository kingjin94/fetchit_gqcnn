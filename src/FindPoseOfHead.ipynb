{
 "cells": [
  {
   "cell_type": "code",
   "execution_count": 6,
   "metadata": {},
   "outputs": [
    {
     "name": "stdout",
     "output_type": "stream",
     "text": [
      "([0.13775026662941636, 0.04497492201781587, 1.3726801733009002], [4.848511093849723e-05, 0.66313548773777, -5.472648662783568e-05, 0.7484993784613287])\n"
     ]
    },
    {
     "name": "stderr",
     "output_type": "stream",
     "text": [
      "[WARN] [WallTime: 1543247732.399062] [2486.946000] Detected jump back in time of 0.006000s. Clearing TF buffer.\n",
      "[WARN] [WallTime: 1543247961.923008] [2683.235000] Detected jump back in time of 0.001000s. Clearing TF buffer.\n",
      "[WARN] [WallTime: 1543247986.502838] [2704.535000] Detected jump back in time of 0.001000s. Clearing TF buffer.\n",
      "[WARN] [WallTime: 1543248001.727333] [2717.756000] Detected jump back in time of 0.001000s. Clearing TF buffer.\n",
      "[WARN] [WallTime: 1543248087.831429] [2792.685000] Detected jump back in time of 0.001000s. Clearing TF buffer.\n",
      "[WARN] [WallTime: 1543248269.001992] [2950.686000] Detected jump back in time of 0.001000s. Clearing TF buffer.\n",
      "[WARN] [WallTime: 1543248521.440849] [3171.766000] Detected jump back in time of 0.001000s. Clearing TF buffer.\n",
      "[WARN] [WallTime: 1543248564.999986] [3209.759000] Detected jump back in time of 0.001000s. Clearing TF buffer.\n",
      "[WARN] [WallTime: 1543248769.706630] [3386.631000] Detected jump back in time of 0.001000s. Clearing TF buffer.\n",
      "[WARN] [WallTime: 1543248849.053331] [3456.772000] Detected jump back in time of 0.001000s. Clearing TF buffer.\n",
      "[WARN] [WallTime: 1543248854.388412] [3461.320000] Detected jump back in time of 0.001000s. Clearing TF buffer.\n",
      "[WARN] [WallTime: 1543249191.764389] [3756.885000] Detected jump back in time of 0.003000s. Clearing TF buffer.\n",
      "[WARN] [WallTime: 1543249277.615941] [3833.264000] Detected jump back in time of 0.001000s. Clearing TF buffer.\n",
      "[WARN] [WallTime: 1543249590.087926] [4108.016000] Detected jump back in time of 0.001000s. Clearing TF buffer.\n",
      "[WARN] [WallTime: 1543249658.461842] [4165.467000] Detected jump back in time of 0.001000s. Clearing TF buffer.\n",
      "[WARN] [WallTime: 1543249659.054382] [4166.009000] Detected jump back in time of 0.001000s. Clearing TF buffer.\n",
      "[WARN] [WallTime: 1543249792.765317] [4280.133000] Detected jump back in time of 0.001000s. Clearing TF buffer.\n",
      "[WARN] [WallTime: 1543250175.311267] [4608.783000] Detected jump back in time of 0.001000s. Clearing TF buffer.\n",
      "[WARN] [WallTime: 1543250221.438416] [4643.867000] Detected jump back in time of 0.005000s. Clearing TF buffer.\n",
      "[WARN] [WallTime: 1543250305.262824] [4715.533000] Detected jump back in time of 0.001000s. Clearing TF buffer.\n",
      "[WARN] [WallTime: 1543250306.740246] [4716.792000] Detected jump back in time of 0.001000s. Clearing TF buffer.\n",
      "[WARN] [WallTime: 1543250368.535106] [4766.768000] Detected jump back in time of 0.001000s. Clearing TF buffer.\n",
      "[WARN] [WallTime: 1543250468.760893] [4852.925000] Detected jump back in time of 0.001000s. Clearing TF buffer.\n",
      "[WARN] [WallTime: 1543251114.903760] [5374.284000] Detected jump back in time of 0.001000s. Clearing TF buffer.\n"
     ]
    }
   ],
   "source": [
    "import rospy\n",
    "rospy.init_node(\"test\")\n",
    "import tf\n",
    "\n",
    "tf_listener_ = tf.TransformListener()\n",
    "\n",
    "#while 1:\n",
    "#    print tf_listener_.getFrameStrings()\n",
    "i = 0\n",
    "while(not (tf_listener_.frameExists(\"base_link\") and tf_listener_.frameExists(\"head_camera_depth_frame\"))):\n",
    "    i += 1\n",
    "\n",
    "now = rospy.get_rostime()\n",
    "while(not tf_listener_.canTransform(\"base_link\", \"head_camera_depth_frame\", now)):\n",
    "    i += 1\n",
    "    now = rospy.get_rostime()\n",
    "print tf_listener_.lookupTransform(\"base_link\", \"head_camera_depth_frame\", now)"
   ]
  }
 ],
 "metadata": {
  "kernelspec": {
   "display_name": "Python 2",
   "language": "python",
   "name": "python2"
  },
  "language_info": {
   "codemirror_mode": {
    "name": "ipython",
    "version": 2
   },
   "file_extension": ".py",
   "mimetype": "text/x-python",
   "name": "python",
   "nbconvert_exporter": "python",
   "pygments_lexer": "ipython2",
   "version": "2.7.6"
  }
 },
 "nbformat": 4,
 "nbformat_minor": 2
}
